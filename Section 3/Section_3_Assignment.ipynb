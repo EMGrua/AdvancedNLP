{
  "cells": [
    {
      "cell_type": "markdown",
      "metadata": {
        "id": "Mtz-WsX1WAZE"
      },
      "source": [
        "# Section 3 Assignment - Transformers"
      ]
    },
    {
      "cell_type": "markdown",
      "metadata": {
        "id": "Rh10rr89WAZF"
      },
      "source": [
        "# Task\n",
        "You work for a large company and the company receives 8 letters regarding one of your products. These letters range from letters of complaint to letters of praise.\n",
        "\n",
        "- Using Hugging Face Transformers, develop an automatically generated MS Word report for your manager on the letters regarding the product. Divide the report into a section on the positive responses and negative responses. Summarize the sentiments towards the product and provide a summary of the letters that reflect the most extreme sentiments. Determine and report in each case on what the customer wants to happen by automatically questioning their respective letters.\n",
        "- Knowing how each customer feels, automatically generate replies to the two most extreme examples, including their name in the greeting in the response.\n",
        "\n",
        "In your code to generate the report for your manager and the letters of reply, indicate your design choices and use any pre-processing trick that you anticipate will improve your automatic generation.\n"
      ]
    },
    {
      "cell_type": "markdown",
      "metadata": {
        "id": "M3Ld9sGjWAZF"
      },
      "source": [
        "## Tools for the task\n",
        "* Some great working examples can be found in the file **01_introduction.ipynb** from the [Natural Language Processing with Transformers GitHub Repository](https://github.com/nlp-with-transformers/notebooks).\n",
        "* You will need to generate/provide the letters of complaint. You can generate the letters from the customers manually or automatically. You can use a Hugging Face text generation pipeline to do this or an online generator like [You.com](https://you.com/search?q=how+to+write+well&&tbm=youwrite&cfr=write&).\n",
        "* You can use the library such as [python-docx](https://python-docx.readthedocs.io/en/latest/index.html#) to generate the report and the response letters.\n",
        "* There is a variety of models on Hugging Face for the different tasks, e.g, [question-answering](https://huggingface.co/models?pipeline_tag=question-answering&sort=downloads) that allow you to try out different models for your task. It is strongly recommended that you review these and look at the model cards in each case. Also, you can test your text in the Hosted inference API on the right hand side of each model."
      ]
    },
    {
      "cell_type": "markdown",
      "metadata": {
        "id": "SJ92w-7bWAZF"
      },
      "source": [
        "# Submission of your Assignment\n",
        "Submit your main Jupyter notebook file for your assignment through Brightspace in the same manner as you have before. Near the top of the file, provide a link to your GitHub repository for the task which contains your input and output files."
      ]
    }
  ],
  "metadata": {
    "language_info": {
      "name": "python"
    },
    "orig_nbformat": 4,
    "colab": {
      "provenance": []
    }
  },
  "nbformat": 4,
  "nbformat_minor": 0
}